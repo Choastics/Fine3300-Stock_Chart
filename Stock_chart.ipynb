{
 "cells": [
  {
   "cell_type": "code",
   "execution_count": null,
   "metadata": {},
   "outputs": [],
   "source": [
    "# # FINE 3300 Assignment 3 - Part A\n",
    "import yfinance as yf\n",
    "import mplfinance as mpf\n",
    "\n",
    "# Define the symbol and date range \n",
    "symbol = \"IVV\"\n",
    "start_date = \"2025-01-01\"\n",
    "end_date = \"2025-01-31\"\n",
    "\n",
    "# Create a Ticker object and retrieve historical data\n",
    "ticker = yf.Ticker(symbol)\n",
    "data = ticker.history(start=start_date, end=end_date)\n",
    "\n",
    "# Check if data is available\n",
    "if data.empty:\n",
    "    print(\"No data available for the given date range. (This may be due to the date range being in the future.)\")\n",
    "else:\n",
    "    # Plot a candlestick chart with volume using mplfinance.\n",
    "    mpf.plot(data, type='candle', volume=True, show_nontrading=True,\n",
    "             title=f\"{symbol} (January 2025)\",\n",
    "             ylabel=\"Price (USD)\", ylabel_lower=\"Volume\")"
   ]
  },
  {
   "cell_type": "code",
   "execution_count": null,
   "metadata": {},
   "outputs": [],
   "source": [
    "# # FINE 3300 Assignment 3 - Part B\n",
    "# ## Stock Price Data and Indicators\n",
    "\n",
    "# %%\n",
    "import pandas as pd\n",
    "import matplotlib.pyplot as plt\n",
    "\n",
    "# Load data and preprocess\n",
    "df = pd.read_csv('StockData.csv')\n",
    "aapl = df[['Trading Day', 'AAPL']].head(250).set_index('Trading Day')\n",
    "\n",
    "# Bollinger Bands calculation\n",
    "window = 20\n",
    "aapl['MA'] = aapl['AAPL'].rolling(window=window).mean()\n",
    "aapl['SD'] = aapl['AAPL'].rolling(window=window).std(ddof=0)\n",
    "aapl['UB'] = aapl['MA'] + 2 * aapl['SD']\n",
    "aapl['LB'] = aapl['MA'] - 2 * aapl['SD']\n",
    "\n",
    "# Plotting with custom styles\n",
    "plt.figure(figsize=(12, 6))\n",
    "\n",
    "# AAPL Price (Black)\n",
    "plt.plot(aapl.index, aapl['AAPL'], label='AAPL', color='black', linewidth=1.5)\n",
    "\n",
    "# Moving Average (Orange Solid Line)\n",
    "plt.plot(aapl.index, aapl['MA'], label='MA', color='#FFA500', linewidth=1.5)\n",
    "\n",
    "# Bands (Red = UB, Green = LB)\n",
    "plt.plot(aapl.index, aapl['UB'], label='UB', color='red', alpha=0.8, linewidth=1)\n",
    "plt.plot(aapl.index, aapl['LB'], label='LB', color='green', alpha=0.8, linewidth=1)\n",
    "\n",
    "# Shaded area between bands\n",
    "plt.fill_between(aapl.index, aapl['UB'], aapl['LB'], color='gray', alpha=0.1)\n",
    "\n",
    "# Formatting\n",
    "plt.title('Stock Price Data and Indicators', fontsize=14, pad=20)\n",
    "plt.xlabel('Trading Day', fontsize=12)\n",
    "plt.ylabel('Price', fontsize=12)\n",
    "plt.legend(loc='upper left', frameon=False)\n",
    "plt.grid(True, linestyle='--', alpha=0.7)\n",
    "plt.tight_layout()\n",
    "plt.show()"
   ]
  }
 ],
 "metadata": {
  "kernelspec": {
   "display_name": "Python 3",
   "language": "python",
   "name": "python3"
  },
  "language_info": {
   "codemirror_mode": {
    "name": "ipython",
    "version": 3
   },
   "file_extension": ".py",
   "mimetype": "text/x-python",
   "name": "python",
   "nbconvert_exporter": "python",
   "pygments_lexer": "ipython3",
   "version": "3.13.1"
  }
 },
 "nbformat": 4,
 "nbformat_minor": 2
}
